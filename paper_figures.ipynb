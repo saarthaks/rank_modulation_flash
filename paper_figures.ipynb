{
 "cells": [
  {
   "cell_type": "code",
   "execution_count": null,
   "metadata": {},
   "outputs": [],
   "source": [
    "import numpy as np\n",
    "import itertools\n",
    "import os\n",
    "import bchlib\n",
    "import matplotlib.pyplot as plt\n",
    "\n",
    "from rank_modulation_functions import *"
   ]
  },
  {
   "cell_type": "markdown",
   "metadata": {},
   "source": [
    "# Generating Baseline RBER Results"
   ]
  },
  {
   "cell_type": "markdown",
   "metadata": {},
   "source": [
    "### T < 10 but different $\\sigma_Q$"
   ]
  },
  {
   "cell_type": "code",
   "execution_count": null,
   "metadata": {},
   "outputs": [],
   "source": [
    "Ls = [0, 40, 80, 120]\n",
    "Delta = (Ls[1]-Ls[0])/2\n",
    "Qrs = [20, 60, 100]\n",
    "n = 1024\n",
    "leak = 1\n",
    "\n",
    "ts = np.linspace(0, 10, 10)\n",
    "sigs = [2,4,6,8]\n",
    "RBERTs = np.zeros((len(ts), len(sigs)))\n",
    "for i, T in enumerate(ts):\n",
    "    for j, sig in enumerate(sigs):\n",
    "        RBER = test_RBER(n, Ls, sig, Qrs, leak, T)\n",
    "        RBERTs[i,j] = RBER"
   ]
  },
  {
   "cell_type": "code",
   "execution_count": null,
   "metadata": {},
   "outputs": [],
   "source": [
    "# plotting\n",
    "plt.figure(figsize=(8,6))\n",
    "ax = plt.gca()\n",
    "\n",
    "ax.spines[\"right\"].set_visible(False)\n",
    "ax.spines[\"top\"].set_visible(False)\n",
    "\n",
    "\n",
    "plt.plot(ts, RBERTs, '--*')\n",
    "plt.legend([r'$\\sigma / \\Delta = %.1f$' % (s/Delta) for s in sigs])\n",
    "plt.xlabel('Retention Interval [T]')\n",
    "plt.ylabel('Bit Error Rate ((BER)')\n",
    "\n",
    "plt.figure(figsize=(8,6))\n",
    "ax = plt.gca()\n",
    "\n",
    "ax.spines[\"right\"].set_visible(False)\n",
    "ax.spines[\"top\"].set_visible(False)\n",
    "\n",
    "\n",
    "plt.semilogy(ts, RBERTs, '--*')\n",
    "plt.legend([r'$\\sigma / \\Delta = %.1f$' % (s/Delta) for s in sigs])\n",
    "plt.xlabel('Retention Interval [T]')\n",
    "plt.ylabel('Bit Error Rate ((BER)')"
   ]
  },
  {
   "cell_type": "markdown",
   "metadata": {},
   "source": [
    "### T < 256 "
   ]
  },
  {
   "cell_type": "code",
   "execution_count": null,
   "metadata": {},
   "outputs": [],
   "source": [
    "Ls = [0, 40, 80, 120]\n",
    "sig = 4\n",
    "Delta = (Ls[1]-Ls[0])/2\n",
    "Qrs = [20, 60, 100]\n",
    "n = 1024\n",
    "leak = 1\n",
    "\n",
    "ts = 2**np.arange(9)\n",
    "RBERTs = []\n",
    "for i, T in enumerate(ts):\n",
    "    RBER = test_RBER(n, Ls, sig, Qrs, leak, T)\n",
    "    RBERTs.append(RBER)"
   ]
  },
  {
   "cell_type": "markdown",
   "metadata": {},
   "source": [
    "# Generating BER Results for Construction A"
   ]
  },
  {
   "cell_type": "code",
   "execution_count": null,
   "metadata": {},
   "outputs": [],
   "source": [
    "b = 128\n",
    "Ls = [40*i for i in range(b)]\n",
    "sig = 4\n",
    "Qrs = [40*i-20 for i in range(1,b)]\n",
    "leak = 1\n",
    "\n",
    "N = 64 * 4000\n",
    "\n",
    "BCH_POLYNOMIAL = 137\n",
    "BCH_BITS = 10\n",
    "bch = bchlib.BCH(BCH_POLYNOMIAL, BCH_BITS)\n",
    "\n",
    "ts = 2**np.arange(9)\n",
    "\n",
    "qBERs = []\n",
    "for T in ts:\n",
    "    qBER = test_constr_A(N, bch, Ls, sig, leak, T)\n",
    "    qBERs.append(qBER)"
   ]
  },
  {
   "cell_type": "markdown",
   "metadata": {},
   "source": [
    "# Generating BER Results for Construction B"
   ]
  },
  {
   "cell_type": "code",
   "execution_count": null,
   "metadata": {},
   "outputs": [],
   "source": [
    "b = 37\n",
    "Ls = [40*i for i in range(b)]\n",
    "sig = 4\n",
    "Qrs = [40*i-20 for i in range(1,b)]\n",
    "leak = 1\n",
    "\n",
    "N = 64 * 4000\n",
    "\n",
    "BCH_POLYNOMIAL = 137\n",
    "BCH_BITS = 10\n",
    "bch = bchlib.BCH(BCH_POLYNOMIAL, BCH_BITS)\n",
    "\n",
    "ts = 2**np.arange(1)\n",
    "\n",
    "BERs = []\n",
    "for T in ts:\n",
    "    BER = test_gray_map(N, bch, Ls, sig, leak, T)\n",
    "    BERs.append(BER)\n"
   ]
  },
  {
   "cell_type": "code",
   "execution_count": null,
   "metadata": {},
   "outputs": [],
   "source": [
    "# Plotting\n",
    "plt.figure(figsize=(8,6))\n",
    "ax = plt.gca()\n",
    "\n",
    "ax.spines[\"right\"].set_visible(False)\n",
    "ax.spines[\"top\"].set_visible(False)\n",
    "\n",
    "plt.loglog(ts, RBERs, '--k', label='No ECC')\n",
    "plt.loglog(ts, qBERs, '--*', label='Construction A')\n",
    "plt.loglog(ts, BERs, '--o', label='Construction B')\n",
    "plt.legend()\n",
    "plt.xlabel('Retention Interval [T]')\n",
    "plt.ylabel('Bit Error Rate (BER)')"
   ]
  }
 ],
 "metadata": {
  "kernelspec": {
   "display_name": "Python 3",
   "language": "python",
   "name": "python3"
  },
  "language_info": {
   "codemirror_mode": {
    "name": "ipython",
    "version": 3
   },
   "file_extension": ".py",
   "mimetype": "text/x-python",
   "name": "python",
   "nbconvert_exporter": "python",
   "pygments_lexer": "ipython3",
   "version": "3.6.6"
  }
 },
 "nbformat": 4,
 "nbformat_minor": 2
}
